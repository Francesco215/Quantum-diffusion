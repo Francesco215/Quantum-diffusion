{
 "cells": [
  {
   "cell_type": "code",
   "execution_count": 23,
   "metadata": {},
   "outputs": [],
   "source": [
    "import torch\n",
    "from src import *\n",
    "from matplotlib import pyplot as plt"
   ]
  },
  {
   "cell_type": "code",
   "execution_count": 48,
   "metadata": {},
   "outputs": [
    {
     "data": {
      "image/png": "[encoded data removed]",
      "text/plain": [
       "<Figure size 432x288 with 1 Axes>"
      ]
     },
     "metadata": {
      "needs_background": "light"
     },
     "output_type": "display_data"
    }
   ],
   "source": [
    "shape=[60,100000]\n",
    "\n",
    "k=.3\n",
    "\n",
    "alphas=torch.linspace(0,1,shape[0])\n",
    "pflip=probablity_flip_gaussian(alphas,k)\n",
    "\n",
    "plt.plot(alphas,pflip,label='analytical')\n",
    "\n",
    "bern=bernoulli_noise(torch.zeros(shape).to(torch.bool),alphas,k).to(torch.float)\n",
    "bern=torch.mean(bern,dim=1)\n",
    "\n",
    "plt.plot(alphas,bern,label='bernoulli')\n",
    "\n",
    "thetas=-torch.ones(shape)*.5\n",
    "\n",
    "\n",
    "\n",
    "thetas=gaussian_noise(thetas,alphas,k)\n",
    "thetas=qubit_collapse(thetas)\n",
    "thetas=qubit_to_binary(thetas).float()\n",
    "\n",
    "thetas=torch.mean(thetas,(1))\n",
    "\n",
    "plt.plot(alphas,thetas,label='numerical')\n",
    "plt.ylabel('probability of spin flip')\n",
    "plt.xlabel('alpha')\n",
    "plt.legend()\n",
    "plt.show()"
   ]
  },
  {
   "cell_type": "code",
   "execution_count": 49,
   "metadata": {},
   "outputs": [
    {
     "data": {
      "text/plain": [
       "[<matplotlib.lines.Line2D at 0x7f95a01d0730>]"
      ]
     },
     "execution_count": 49,
     "metadata": {},
     "output_type": "execute_result"
    },
    {
     "data": {
      "image/png": "[encoded data removed]",
      "text/plain": [
       "<Figure size 432x288 with 1 Axes>"
      ]
     },
     "metadata": {
      "needs_background": "light"
     },
     "output_type": "display_data"
    }
   ],
   "source": [
    "plt.plot(-torch.log2(1-pflip),alphas)\n",
    "plt.plot(-torch.log2(1-thetas),alphas)"
   ]
  },
  {
   "cell_type": "code",
   "execution_count": 6,
   "metadata": {},
   "outputs": [],
   "source": [
    "def test_back_to_back():\n",
    "    x=torch.rand([10, 3, 12, 14])\n",
    "    y=x.clone()\n",
    "\n",
    "    y=decimal_to_qubits(y,bits=8)\n",
    "    y=qubit_to_decimal(y, bits=8)\n",
    "\n",
    "    #print(x-y)\n",
    "    return (torch.abs(y-x)<=1/255).all()"
   ]
  },
  {
   "cell_type": "code",
   "execution_count": 7,
   "metadata": {},
   "outputs": [
    {
     "data": {
      "text/plain": [
       "tensor(True)"
      ]
     },
     "execution_count": 7,
     "metadata": {},
     "output_type": "execute_result"
    }
   ],
   "source": [
    "test_back_to_back()"
   ]
  },
  {
   "cell_type": "code",
   "execution_count": 54,
   "metadata": {},
   "outputs": [],
   "source": [
    "def gaussian_noise(img:torch.Tensor, alpha:torch.Tensor, k:float=1):\n",
    "    \"\"\"Takes a batch of images and adds to each one of them a gaussian.\n",
    "        The gaussian noise can be applied only if the img is in the qubit representation\n",
    "    Args:\n",
    "        img (torch.Tensor): images to add noise to\n",
    "        alpha (torch.Tensor): the sqrt(1-alpha) is the variance of the gaussian noise\n",
    "        k (float): it is a parameter that changes the way the gaussian noise id added. Defaults to 1. \n",
    "\n",
    "    Returns:\n",
    "        torch.Tensor: The noised images\n",
    "    \"\"\"\n",
    "    assert alpha.shape[0]==img.shape[0], f'alpha must have the same size as the batch size of img, alpha has {alpha.shape[0]} and img has {img.shape[0]}'\n",
    "    assert img.dtype == torch.float, f'img must be in the qubit representation, img has dtype {img.dtype}'\n",
    "\n",
    "    mu, sigma = torch.sqrt(alpha), torch.sqrt(1-alpha)*k\n",
    "\n",
    "    \n",
    "\n",
    "    noise = torch.rand(img.shape).to(img.device)\n",
    "\n",
    "    while torch.any(torch.isnan(noise)):\n",
    "        print('a')\n",
    "        noise = torch.randn(img.shape).to(img.device)\n",
    "\n",
    "\n",
    "    #       x*sqrt(alpha)                           +           noise*sqrt(1-alpha)\n",
    "    return torch.einsum(\"b, b... -> b...\", mu, img) + torch.einsum(\"b, b... -> b...\", sigma, noise)"
   ]
  },
  {
   "cell_type": "code",
   "execution_count": 57,
   "metadata": {},
   "outputs": [
    {
     "ename": "KeyboardInterrupt",
     "evalue": "",
     "output_type": "error",
     "traceback": [
      "\u001b[0;31m---------------------------------------------------------------------------\u001b[0m",
      "\u001b[0;31mKeyboardInterrupt\u001b[0m                         Traceback (most recent call last)",
      "\u001b[0;32m/var/folders/vg/h6knjndn79l9ytz887vfbrcm0000gn/T/ipykernel_76754/2253526044.py\u001b[0m in \u001b[0;36m<module>\u001b[0;34m\u001b[0m\n\u001b[1;32m      4\u001b[0m \u001b[0;32mwhile\u001b[0m\u001b[0;34m(\u001b[0m\u001b[0;32mTrue\u001b[0m\u001b[0;34m)\u001b[0m\u001b[0;34m:\u001b[0m\u001b[0;34m\u001b[0m\u001b[0;34m\u001b[0m\u001b[0m\n\u001b[1;32m      5\u001b[0m     \u001b[0malpha\u001b[0m \u001b[0;34m=\u001b[0m \u001b[0mtorch\u001b[0m\u001b[0;34m.\u001b[0m\u001b[0mrand\u001b[0m\u001b[0;34m(\u001b[0m\u001b[0mlen\u001b[0m\u001b[0;34m(\u001b[0m\u001b[0mimages\u001b[0m\u001b[0;34m)\u001b[0m\u001b[0;34m)\u001b[0m\u001b[0;34m.\u001b[0m\u001b[0mto\u001b[0m\u001b[0;34m(\u001b[0m\u001b[0mdevice\u001b[0m\u001b[0;34m)\u001b[0m\u001b[0;34m\u001b[0m\u001b[0;34m\u001b[0m\u001b[0m\n\u001b[0;32m----> 6\u001b[0;31m     \u001b[0mnoised_images\u001b[0m \u001b[0;34m=\u001b[0m \u001b[0mgaussian_noise\u001b[0m\u001b[0;34m(\u001b[0m\u001b[0mimages\u001b[0m\u001b[0;34m,\u001b[0m \u001b[0malpha\u001b[0m\u001b[0;34m,\u001b[0m \u001b[0mk\u001b[0m\u001b[0;34m)\u001b[0m\u001b[0;34m\u001b[0m\u001b[0;34m\u001b[0m\u001b[0m\n\u001b[0m\u001b[1;32m      7\u001b[0m     \u001b[0;32mif\u001b[0m \u001b[0mtorch\u001b[0m\u001b[0;34m.\u001b[0m\u001b[0many\u001b[0m\u001b[0;34m(\u001b[0m\u001b[0mtorch\u001b[0m\u001b[0;34m.\u001b[0m\u001b[0misnan\u001b[0m\u001b[0;34m(\u001b[0m\u001b[0mnoised_images\u001b[0m\u001b[0;34m)\u001b[0m\u001b[0;34m)\u001b[0m\u001b[0;34m:\u001b[0m\u001b[0;34m\u001b[0m\u001b[0;34m\u001b[0m\u001b[0m\n\u001b[1;32m      8\u001b[0m         \u001b[0;32mraise\u001b[0m \u001b[0mException\u001b[0m\u001b[0;34m(\u001b[0m\u001b[0;34m'nan'\u001b[0m\u001b[0;34m)\u001b[0m\u001b[0;34m\u001b[0m\u001b[0;34m\u001b[0m\u001b[0m\n",
      "\u001b[0;32m/var/folders/vg/h6knjndn79l9ytz887vfbrcm0000gn/T/ipykernel_76754/1670143628.py\u001b[0m in \u001b[0;36mgaussian_noise\u001b[0;34m(img, alpha, k)\u001b[0m\n\u001b[1;32m     17\u001b[0m \u001b[0;34m\u001b[0m\u001b[0m\n\u001b[1;32m     18\u001b[0m \u001b[0;34m\u001b[0m\u001b[0m\n\u001b[0;32m---> 19\u001b[0;31m     \u001b[0mnoise\u001b[0m \u001b[0;34m=\u001b[0m \u001b[0mtorch\u001b[0m\u001b[0;34m.\u001b[0m\u001b[0mrand\u001b[0m\u001b[0;34m(\u001b[0m\u001b[0mimg\u001b[0m\u001b[0;34m.\u001b[0m\u001b[0mshape\u001b[0m\u001b[0;34m)\u001b[0m\u001b[0;34m.\u001b[0m\u001b[0mto\u001b[0m\u001b[0;34m(\u001b[0m\u001b[0mimg\u001b[0m\u001b[0;34m.\u001b[0m\u001b[0mdevice\u001b[0m\u001b[0;34m)\u001b[0m\u001b[0;34m\u001b[0m\u001b[0;34m\u001b[0m\u001b[0m\n\u001b[0m\u001b[1;32m     20\u001b[0m \u001b[0;34m\u001b[0m\u001b[0m\n\u001b[1;32m     21\u001b[0m     \u001b[0;32mwhile\u001b[0m \u001b[0mtorch\u001b[0m\u001b[0;34m.\u001b[0m\u001b[0many\u001b[0m\u001b[0;34m(\u001b[0m\u001b[0mtorch\u001b[0m\u001b[0;34m.\u001b[0m\u001b[0misnan\u001b[0m\u001b[0;34m(\u001b[0m\u001b[0mnoise\u001b[0m\u001b[0;34m)\u001b[0m\u001b[0;34m)\u001b[0m\u001b[0;34m:\u001b[0m\u001b[0;34m\u001b[0m\u001b[0;34m\u001b[0m\u001b[0m\n",
      "\u001b[0;31mKeyboardInterrupt\u001b[0m: "
     ]
    },
    {
     "ename": "",
     "evalue": "",
     "output_type": "error",
     "traceback": [
      "\u001b[1;31mSi è verificato un arresto anomalo del kernel durante l'esecuzione del codice nella cella attiva o in una cella precedente. Esaminare il codice nelle celle per identificare una possibile causa dell'errore. Per altre informazioni, fare clic su <a href='https://aka.ms/vscodeJupyterKernelCrash'>here</a>. Per altri dettagli, vedere Jupyter <a href='command:jupyter.viewOutput'>log</a>."
     ]
    }
   ],
   "source": [
    "#TODO fix this\n",
    "device=torch.device('mps')\n",
    "images=torch.rand([4,20,20,20]).to(device)\n",
    "while(True):\n",
    "    alpha = torch.rand(len(images)).to(device)\n",
    "    noised_images = gaussian_noise(images, alpha, k)\n",
    "    if torch.any(torch.isnan(noised_images)):\n",
    "        raise Exception('nan')"
   ]
  },
  {
   "cell_type": "code",
   "execution_count": 42,
   "metadata": {},
   "outputs": [
    {
     "data": {
      "text/plain": [
       "tensor([[[ 0.8999,  0.5070, -0.5470,  0.2086, -1.3266,  1.7050, -0.3542,\n",
       "          -2.4581,  1.5569,  0.2384,  0.6120, -0.9454, -0.2535, -0.6350],\n",
       "         [ 1.2056,  1.2017,  0.3730,  1.7767,  0.5317, -0.9460,  0.4613,\n",
       "          -0.4865,  1.5341,  0.7323, -1.5124, -0.8927,  1.0825, -0.5638],\n",
       "         [-2.7379, -0.7277,  1.5662,  0.0256, -2.1518, -0.8779, -2.1484,\n",
       "          -0.8310, -0.8032, -0.1597, -0.0256,  0.3978, -1.3606, -0.2172],\n",
       "         [ 0.0325,  0.4679,  0.4438,  0.4765,  0.7589, -0.2998,  0.1097,\n",
       "           0.1786, -1.5807, -1.3346, -1.6858,  0.5704,  1.0945,  1.0334],\n",
       "         [-1.0447, -1.1644, -0.3203,  2.7471,  0.0339,  1.1211, -0.6902,\n",
       "          -1.2664, -1.7184, -0.6595, -0.0517, -0.0963, -0.2342,  0.8943],\n",
       "         [ 0.3911, -0.6680,  0.1715,  0.8067, -0.5310, -1.2869, -0.3157,\n",
       "           0.5325, -0.8237, -0.3000,  0.7396,  0.7102, -1.1577, -0.0318],\n",
       "         [ 1.6682, -0.2527,  1.4227,  0.3492,  1.0108,  0.0205, -0.6615,\n",
       "           0.2809,  1.0453, -0.7262, -1.1727,  0.9573, -0.8461, -0.6160],\n",
       "         [ 0.1260, -1.2651, -0.1062,  0.5242,  1.6315,  1.0674, -0.1347,\n",
       "           0.2604,  0.1266, -1.0899,  0.2983,  0.2349,  0.9267, -0.2037],\n",
       "         [-0.4642,  0.6871,  0.5236,  0.9798, -1.8292, -0.8196,  0.1432,\n",
       "           0.5443, -0.4103,  0.7131,  0.8768, -0.0624,  2.0444, -0.6690],\n",
       "         [ 0.6525,  0.2854, -0.4373,  0.4773,  1.3123,  0.1150,  0.9884,\n",
       "           0.7667,  0.6556,  0.7490,  0.1209,  0.6317, -1.8673,  2.0745],\n",
       "         [-0.0706, -1.7424,  0.3381, -0.4402, -0.4742, -1.3804,  1.2124,\n",
       "           1.4465, -0.8384, -1.4537,  1.1903,  0.2525, -1.0751,  0.4096],\n",
       "         [ 1.2614,  0.6916, -0.0815,  0.4764,  0.2364,  0.9452, -1.3965,\n",
       "          -0.8827,  0.3071, -0.0555, -0.2230,  0.7098, -0.0990, -0.1906]],\n",
       "\n",
       "        [[-0.7417,  2.2324,  0.1979,  1.5716, -1.6229,  0.0588, -0.8454,\n",
       "           0.5797, -0.1076,  0.5613, -0.8018,  2.0678, -1.4773, -1.0509],\n",
       "         [-1.1992,  1.8547,  1.1806, -0.9243,  0.7532, -0.0599,  1.8949,\n",
       "           0.2177,  1.1553, -0.5459, -0.3412,  1.1508,  1.3053, -3.1057],\n",
       "         [ 1.2995,  0.1895, -1.6929, -1.8311,  1.6606, -0.4968, -0.4458,\n",
       "          -1.4246,  0.2079, -0.8973, -0.3337, -0.0097,  1.2961, -0.2051],\n",
       "         [ 0.3461,  0.5661,  1.1811, -0.3552, -0.7580,  0.6757, -0.8027,\n",
       "          -1.1405, -0.3355,  0.3686,  0.2227, -0.1008, -1.8457,  0.6895],\n",
       "         [ 0.7820, -0.4750, -0.1465, -0.1563,  0.4200, -0.4327,  0.0862,\n",
       "          -0.1128,  1.7829,  2.0595,  0.5006, -0.3288, -0.4533, -0.5578],\n",
       "         [ 0.6846, -1.2761,  0.1088, -0.3245,  0.1304,  0.3694,  1.5833,\n",
       "          -0.4164, -1.2185, -0.3553,  1.2922, -0.7710,  0.6557, -0.8707],\n",
       "         [ 1.1311, -1.7864, -1.1216, -1.3252,  0.3742, -1.1796,  1.2047,\n",
       "          -0.7960,  0.5765,  0.9599,  0.7361,  0.6504,  1.3245,  0.4015],\n",
       "         [ 0.6738,  0.7899, -0.8168,  0.1659, -1.1031,  0.8416, -1.1481,\n",
       "           0.3406,  1.7131,  0.2907, -0.1160, -0.9186,  0.3192, -0.7295],\n",
       "         [-0.2734,  0.2807,  1.3047,  0.8199, -0.3797,  1.0560, -0.5990,\n",
       "           0.2354, -0.6932, -2.8880,  0.6745, -1.3847,  1.9055, -0.2416],\n",
       "         [ 1.3949,  1.1731, -0.4907,  0.5409, -1.9308,  0.9052,  0.0953,\n",
       "          -0.8404, -0.3745,  0.2814,  1.0886, -0.8599,  0.7393,  0.8895],\n",
       "         [-1.0817, -0.3053, -1.6847, -2.0770,  1.7548,  0.3221,  1.1112,\n",
       "          -0.9194, -1.1141, -1.2841, -0.7605, -0.6936,  0.2817,  0.0746],\n",
       "         [-1.2539,  0.7062, -0.1720, -1.4608,  1.5327, -1.6957, -0.0364,\n",
       "          -1.1427,  0.9325,  0.2744,  2.0298,  0.1516,  2.1640, -0.2317]],\n",
       "\n",
       "        [[-0.8597,  0.3101, -0.8192, -1.4625,  0.5965, -0.2820,  0.6801,\n",
       "          -0.3508, -0.3371, -0.0044,  0.4696,  1.3879,  0.2739, -0.8428],\n",
       "         [-0.3386, -0.2912, -0.9756, -1.3619,  1.8545,  0.5851,  0.4580,\n",
       "           1.8485,  0.6697, -0.4899,  0.7919,  0.6273,  0.5728,  0.1870],\n",
       "         [-0.4450,  0.1479,  0.2319, -2.0329, -0.6194,  0.1109, -0.7400,\n",
       "           2.5043,  0.1214,  1.3021, -0.4687,  0.0682, -0.4503, -1.8360],\n",
       "         [-0.4165, -1.3579,  0.6186, -0.8644,  0.5615,  1.0991,  0.9890,\n",
       "           0.6322, -0.8656, -0.0203, -0.6979, -0.7916, -0.3027,  2.0451],\n",
       "         [-0.0265,  0.9631, -1.4985, -0.5315, -0.7275,  0.0735,  0.4092,\n",
       "           1.2452, -0.4845, -0.5548,  0.5231,  0.5377,  1.3915,  0.1757],\n",
       "         [-0.6622,  2.5145,  0.7460,  0.1744,  0.3606,  0.6985,  2.1560,\n",
       "          -0.6950, -1.1372, -1.2978,  1.2278, -0.1784, -0.1963,  1.3144],\n",
       "         [-1.1204, -0.3177,  0.0628, -0.9887, -1.7468, -0.7881, -0.5375,\n",
       "           0.0246, -0.0715,  0.5958,  0.0389,  0.3734, -0.9615,  0.7497],\n",
       "         [-1.8934,  1.6449,  0.1554,  0.3663, -0.7207, -0.5034,  0.9405,\n",
       "          -1.5185,  1.6833,  0.6650,  0.1998,  1.2311,  0.3821,  0.7351],\n",
       "         [ 0.2514,  0.0219,  1.3981,  0.4299, -0.8832,  2.0560,  0.1735,\n",
       "           1.3083, -0.5842, -0.7208,  2.1778,  1.4276,  1.3557, -0.6346],\n",
       "         [ 0.3995,  1.7115, -0.2116,  0.9994, -1.1555, -0.4057,  0.4190,\n",
       "           0.7144, -1.2051, -0.1441, -1.8747,  0.3455, -0.5540, -0.1161],\n",
       "         [-1.0103, -0.9935,  1.5943, -0.2745,  0.9886, -0.1388,  0.6288,\n",
       "           1.8397,  0.0247,  1.5923, -0.7932,  1.1482, -1.8543, -0.2875],\n",
       "         [-0.4863,  0.4544, -0.8085,  1.2117,  2.1175,  0.6074, -0.0269,\n",
       "           1.0946, -0.6385,  0.6063,  0.1241, -1.0111,  2.1826,  1.0135]]])"
      ]
     },
     "execution_count": 42,
     "metadata": {},
     "output_type": "execute_result"
    }
   ],
   "source": [
    "x=torch.rand([3, 3, 12, 14])\n",
    "sigma=torch.linspace(0,3.1,3)\n",
    "sigma=2.\n",
    "sigma=torch.Tensor([1])\n",
    "bmult(sigma, torch.normal(0,1, size=x.shape, device=x.device))[1]"
   ]
  },
  {
   "cell_type": "code",
   "execution_count": 14,
   "metadata": {},
   "outputs": [
    {
     "data": {
      "text/plain": [
       "torch.Size([10, 24, 10, 10])"
      ]
     },
     "execution_count": 14,
     "metadata": {},
     "output_type": "execute_result"
    }
   ],
   "source": [
    "bernulli_prob.shape"
   ]
  },
  {
   "cell_type": "code",
   "execution_count": 2,
   "metadata": {},
   "outputs": [
    {
     "data": {
      "text/plain": [
       "(4, 0.6)"
      ]
     },
     "execution_count": 2,
     "metadata": {},
     "output_type": "execute_result"
    }
   ],
   "source": [
    "def times2(x:int):\n",
    "    return x*2\n",
    "\n",
    "times2(2),times2(.3)"
   ]
  },
  {
   "cell_type": "code",
   "execution_count": 3,
   "metadata": {},
   "outputs": [
    {
     "data": {
      "text/plain": [
       "'times2'"
      ]
     },
     "execution_count": 3,
     "metadata": {},
     "output_type": "execute_result"
    }
   ],
   "source": [
    "times2.__name__"
   ]
  },
  {
   "cell_type": "code",
   "execution_count": null,
   "metadata": {},
   "outputs": [],
   "source": []
  }
 ],
 "metadata": {
  "kernelspec": {
   "display_name": "Python 3.9.7 ('base')",
   "language": "python",
   "name": "python3"
  },
  "language_info": {
   "codemirror_mode": {
    "name": "ipython",
    "version": 3
   },
   "file_extension": ".py",
   "mimetype": "text/x-python",
   "name": "python",
   "nbconvert_exporter": "python",
   "pygments_lexer": "ipython3",
   "version": "3.9.7"
  },
  "orig_nbformat": 4,
  "vscode": {
   "interpreter": {
    "hash": "40d3a090f54c6569ab1632332b64b2c03c39dcf918b08424e98f38b5ae0af88f"
   }
  }
 },
 "nbformat": 4,
 "nbformat_minor": 2
}
