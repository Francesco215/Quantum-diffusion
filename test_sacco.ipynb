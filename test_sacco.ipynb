{
 "cells": [
  {
   "cell_type": "code",
   "execution_count": 33,
   "metadata": {},
   "outputs": [],
   "source": [
    "from src import *\n",
    "import torch\n",
    "from torch import nn\n",
    "import numpy\n",
    "import numpy as np"
   ]
  },
  {
   "cell_type": "code",
   "execution_count": 34,
   "metadata": {},
   "outputs": [],
   "source": [
    "x=torch.rand([2, 3, 10, 10])\n",
    "decimal_to_bits(x, bits=8).shape\n",
    "X = (x * 255).int().clamp(0, 255)\n"
   ]
  },
  {
   "cell_type": "code",
   "execution_count": 35,
   "metadata": {},
   "outputs": [],
   "source": [
    "def decimal_to_qubits(x,bits=BITS):\n",
    "    \"\"\"\n",
    "        makes the wavefunction collapse\n",
    "        expects image tensor with each x representing the polar angle of each qbit\n",
    "    \"\"\"\n",
    "    device = x.device\n",
    "\n",
    "    x = (x * 255).int().clamp(0, 255)\n",
    "\n",
    "    # powers of 2 [128,  64,  32,  16,   8,   4,   2,   1]\n",
    "    mask = 2 ** torch.arange(bits - 1, -1, -1, device = device)\n",
    "    mask = rearrange(mask, 'd -> d 1 1') #mask.shape == (8, 1, 1)\n",
    "    x = rearrange(x, 'b c h w -> b c 1 h w') #batch, channel, height, width\n",
    "\n",
    "    bits = ((x & mask) != 0).float()*np.pi/2\n",
    "    bits = rearrange(bits, 'b c d h w -> b (c d) h w')\n",
    "    return bits\n",
    "\n",
    "def qubit_to_decimal(x, bits = BITS):\n",
    "    \"\"\" expects x to be a polar angle in randians, returns a decimal number in the range [0, 1] \"\"\"\n",
    "    device = x.device\n",
    "\n",
    "    x = torch.bernoulli(torch.sin(x)**2).int()\n",
    "    mask = 2 ** torch.arange(bits - 1, -1, -1, device = device, dtype = torch.int32)\n",
    "\n",
    "    mask = rearrange(mask, 'd -> d 1 1')\n",
    "    x = rearrange(x, 'b (c d) h w -> b c d h w', d = 8)\n",
    "    dec = reduce(x * mask, 'b c d h w -> b c h w', 'sum')\n",
    "    return (dec / 255).clamp(0., 1.)"
   ]
  },
  {
   "cell_type": "code",
   "execution_count": null,
   "metadata": {},
   "outputs": [],
   "source": []
  }
 ],
 "metadata": {
  "kernelspec": {
   "display_name": "Python 3.9.7 ('base')",
   "language": "python",
   "name": "python3"
  },
  "language_info": {
   "codemirror_mode": {
    "name": "ipython",
    "version": 3
   },
   "file_extension": ".py",
   "mimetype": "text/x-python",
   "name": "python",
   "nbconvert_exporter": "python",
   "pygments_lexer": "ipython3",
   "version": "3.9.7"
  },
  "orig_nbformat": 4,
  "vscode": {
   "interpreter": {
    "hash": "40d3a090f54c6569ab1632332b64b2c03c39dcf918b08424e98f38b5ae0af88f"
   }
  }
 },
 "nbformat": 4,
 "nbformat_minor": 2
}
