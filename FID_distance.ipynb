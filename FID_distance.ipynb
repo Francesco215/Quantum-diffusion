{
 "cells": [
  {
   "cell_type": "code",
   "execution_count": null,
   "metadata": {},
   "outputs": [],
   "source": [
    "!pip install pytorch-fid"
   ]
  },
  {
   "cell_type": "code",
   "execution_count": null,
   "metadata": {},
   "outputs": [],
   "source": [
    "from pytorch_fid import fid_score"
   ]
  },
  {
   "cell_type": "code",
   "execution_count": null,
   "metadata": {},
   "outputs": [],
   "source": [
    "fid_score()"
   ]
  },
  {
   "cell_type": "code",
   "execution_count": 4,
   "metadata": {},
   "outputs": [
    {
     "name": "stderr",
     "output_type": "stream",
     "text": [
      "d:\\Python\\Anaconda\\lib\\site-packages\\torch\\cuda\\__init__.py:80: UserWarning: CUDA initialization: CUDA unknown error - this may be due to an incorrectly set up environment, e.g. changing env variable CUDA_VISIBLE_DEVICES after program start. Setting the available devices to be zero. (Triggered internally at  ..\\c10\\cuda\\CUDAFunctions.cpp:112.)\n",
      "  return torch._C._cuda_getDeviceCount() > 0\n",
      "Traceback (most recent call last):\n",
      "  File \"d:\\Python\\Anaconda\\lib\\runpy.py\", line 197, in _run_module_as_main\n",
      "    return _run_code(code, main_globals, None,\n",
      "  File \"d:\\Python\\Anaconda\\lib\\runpy.py\", line 87, in _run_code\n",
      "    exec(code, run_globals)\n",
      "  File \"d:\\Python\\Anaconda\\lib\\site-packages\\pytorch_fid\\__main__.py\", line 3, in <module>\n",
      "    pytorch_fid.fid_score.main()\n",
      "  File \"d:\\Python\\Anaconda\\lib\\site-packages\\pytorch_fid\\fid_score.py\", line 274, in main\n",
      "    num_avail_cpus = len(os.sched_getaffinity(0))\n",
      "AttributeError: module 'os' has no attribute 'sched_getaffinity'\n"
     ]
    }
   ],
   "source": [
    "!python -m pytorch_fid \"path/to/dataset1\" \"path/to/dataset2\""
   ]
  }
 ],
 "metadata": {
  "kernelspec": {
   "display_name": "Python 3.9.7 ('base')",
   "language": "python",
   "name": "python3"
  },
  "language_info": {
   "codemirror_mode": {
    "name": "ipython",
    "version": 3
   },
   "file_extension": ".py",
   "mimetype": "text/x-python",
   "name": "python",
   "nbconvert_exporter": "python",
   "pygments_lexer": "ipython3",
   "version": "3.9.7"
  },
  "orig_nbformat": 4,
  "vscode": {
   "interpreter": {
    "hash": "8967b6ecdc3a387f4ee01c8c6ec3fd3c2fc0d54335c2d6cf895885a0f9327229"
   }
  }
 },
 "nbformat": 4,
 "nbformat_minor": 2
}
